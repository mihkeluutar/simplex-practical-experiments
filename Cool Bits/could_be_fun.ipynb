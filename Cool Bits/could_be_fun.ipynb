{
 "cells": [
  {
   "cell_type": "code",
   "execution_count": 3,
   "metadata": {},
   "outputs": [],
   "source": [
    "# Imports\n",
    "import copy\n",
    "\n",
    "# Importing the supportive functions from additional files\n",
    "from Utilities.input_gen_utils import *  # Input generation\n",
    "from Utilities.format_utils import *     # Formatting values for prettier printing"
   ]
  },
  {
   "cell_type": "code",
   "execution_count": 4,
   "metadata": {},
   "outputs": [
    {
     "name": "stdout",
     "output_type": "stream",
     "text": [
      "Example for Original Geometric input:\n",
      "A=[1, 2, 4], b=[[1, 2, 4], [2, 4, 8], [4, 8, 16]], c=[1, 3, 7]\n",
      "\n",
      "Our goal is to maximize the objective function given by:\n",
      "-1x_1 + -2x_2 + -4x_3 + Z = 0\n",
      "Which is subject to the following constraints/inequalities:\n",
      "IC 1: 1x_1 + 2x_2 + 4x_3 <= 1\n",
      "IC 2: 2x_1 + 4x_2 + 8x_3 <= 3\n",
      "IC 3: 4x_1 + 8x_2 + 16x_3 <= 7\n",
      "---\n",
      "\n",
      "Example for Shuffled b and c input:\n",
      "A=[1, 2, 4], b=[[1, 2, 4], [2, 4, 8], [4, 8, 16]], c=[1, 3, 7]\n",
      "\n",
      "Our goal is to maximize the objective function given by:\n",
      "-1x_1 + -2x_2 + -4x_3 + Z = 0\n",
      "Which is subject to the following constraints/inequalities:\n",
      "IC 1: 1x_1 + 2x_2 + 4x_3 <= 1\n",
      "IC 2: 2x_1 + 4x_2 + 8x_3 <= 3\n",
      "IC 3: 4x_1 + 8x_2 + 16x_3 <= 7\n",
      "---\n",
      "\n",
      "Example for Shuffled columns in A and b input:\n",
      "A=[4, 1, 2], b=[[4, 1, 2], [8, 2, 4], [16, 4, 8]], c=[1, 3, 7]\n",
      "\n",
      "Our goal is to maximize the objective function given by:\n",
      "-4x_1 + -1x_2 + -2x_3 + Z = 0\n",
      "Which is subject to the following constraints/inequalities:\n",
      "IC 1: 4x_1 + 1x_2 + 2x_3 <= 1\n",
      "IC 2: 8x_1 + 2x_2 + 4x_3 <= 3\n",
      "IC 3: 16x_1 + 4x_2 + 8x_3 <= 7\n",
      "---\n",
      "\n"
     ]
    }
   ],
   "source": [
    "# ---\n",
    "# Input shuffling demo; runs the shuffling algorithms and prints out some nice looking demonstrations.\n",
    "# ---\n",
    "\n",
    "# Generate geometric simplex input\n",
    "A, b, c = generate_geometric_simplex_input(3, 3)\n",
    "print_example(A, b, c, 'Original Geometric')\n",
    "\n",
    "# Shuffle b and c (shuffles constraints and objective coefficients)\n",
    "b_shuf, c_shuf = shuffle_simplex_inputs_rows(copy.deepcopy(b), copy.deepcopy(c))\n",
    "\n",
    "# Shuffle columns in A and b (shuffles variable order in constraints)\n",
    "A_shuf_col, b_shuf_col = shuffle_simplex_inputs_columns(copy.deepcopy(A), copy.deepcopy(b))\n",
    "\n",
    "# Print shuffled examples\n",
    "print_example(A, b_shuf, c_shuf, 'Shuffled b and c')\n",
    "print_example(A_shuf_col, b_shuf_col, c, 'Shuffled columns in A and b')\n"
   ]
  }
 ],
 "metadata": {
  "kernelspec": {
   "display_name": "ti2024",
   "language": "python",
   "name": "python3"
  },
  "language_info": {
   "codemirror_mode": {
    "name": "ipython",
    "version": 3
   },
   "file_extension": ".py",
   "mimetype": "text/x-python",
   "name": "python",
   "nbconvert_exporter": "python",
   "pygments_lexer": "ipython3",
   "version": "3.10.13"
  }
 },
 "nbformat": 4,
 "nbformat_minor": 2
}
