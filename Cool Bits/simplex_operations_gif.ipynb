{
 "cells": [
  {
   "cell_type": "markdown",
   "metadata": {},
   "source": [
    "# GIF generator\n",
    "\n",
    "This notebook can be used to create some nice GIFs about how the SImplex algorithm chooses a value. This utilizes the basic implementation of simplex method."
   ]
  },
  {
   "cell_type": "code",
   "execution_count": 2,
   "metadata": {},
   "outputs": [
    {
     "name": "stdout",
     "output_type": "stream",
     "text": [
      "Requirement already satisfied: imageio in /Users/mihkeluutar/anaconda3/envs/ti2024/lib/python3.10/site-packages (2.33.1)\n",
      "Requirement already satisfied: numpy in /Users/mihkeluutar/anaconda3/envs/ti2024/lib/python3.10/site-packages (from imageio) (1.26.4)\n",
      "Requirement already satisfied: pillow>=8.3.2 in /Users/mihkeluutar/anaconda3/envs/ti2024/lib/python3.10/site-packages (from imageio) (10.2.0)\n",
      "Note: you may need to restart the kernel to use updated packages.\n"
     ]
    },
    {
     "ename": "ModuleNotFoundError",
     "evalue": "No module named 'thesis_experiments'",
     "output_type": "error",
     "traceback": [
      "\u001b[0;31m---------------------------------------------------------------------------\u001b[0m",
      "\u001b[0;31mModuleNotFoundError\u001b[0m                       Traceback (most recent call last)",
      "\u001b[1;32m/Users/mihkeluutar/UniTartu/Thesis/Cool Bits/simplex_operations_gif.ipynb Cell 2\u001b[0m line \u001b[0;36m1\n\u001b[1;32m     <a href='vscode-notebook-cell:/Users/mihkeluutar/UniTartu/Thesis/Cool%20Bits/simplex_operations_gif.ipynb#W2sZmlsZQ%3D%3D?line=9'>10</a>\u001b[0m \u001b[39mfrom\u001b[39;00m \u001b[39mUtilities\u001b[39;00m\u001b[39m.\u001b[39;00m\u001b[39mformat_utils\u001b[39;00m \u001b[39mimport\u001b[39;00m \u001b[39m*\u001b[39m     \u001b[39m# Formatting values for prettier printing\u001b[39;00m\n\u001b[1;32m     <a href='vscode-notebook-cell:/Users/mihkeluutar/UniTartu/Thesis/Cool%20Bits/simplex_operations_gif.ipynb#W2sZmlsZQ%3D%3D?line=10'>11</a>\u001b[0m \u001b[39mfrom\u001b[39;00m \u001b[39mUtilities\u001b[39;00m\u001b[39m.\u001b[39;00m\u001b[39mvisualization_utils\u001b[39;00m \u001b[39mimport\u001b[39;00m \u001b[39m*\u001b[39m\n\u001b[0;32m---> <a href='vscode-notebook-cell:/Users/mihkeluutar/UniTartu/Thesis/Cool%20Bits/simplex_operations_gif.ipynb#W2sZmlsZQ%3D%3D?line=12'>13</a>\u001b[0m \u001b[39mfrom\u001b[39;00m \u001b[39mthesis_experiments\u001b[39;00m \u001b[39mimport\u001b[39;00m simplex\n\u001b[1;32m     <a href='vscode-notebook-cell:/Users/mihkeluutar/UniTartu/Thesis/Cool%20Bits/simplex_operations_gif.ipynb#W2sZmlsZQ%3D%3D?line=14'>15</a>\u001b[0m \u001b[39m# Mainly used for visualizing input distributions as a pixel matrix\u001b[39;00m\n\u001b[1;32m     <a href='vscode-notebook-cell:/Users/mihkeluutar/UniTartu/Thesis/Cool%20Bits/simplex_operations_gif.ipynb#W2sZmlsZQ%3D%3D?line=15'>16</a>\u001b[0m \u001b[39mimport\u001b[39;00m \u001b[39mnumpy\u001b[39;00m \u001b[39mas\u001b[39;00m \u001b[39mnp\u001b[39;00m\n",
      "\u001b[0;31mModuleNotFoundError\u001b[0m: No module named 'thesis_experiments'"
     ]
    }
   ],
   "source": [
    "import sys\n",
    "import os\n",
    "sys.path.append(os.path.abspath(os.path.join('.', os.pardir)))\n",
    "\n",
    "# Imports\n",
    "%pip install imageio\n",
    "\n",
    "# Importing the supportive functions from additional files\n",
    "from Utilities.input_gen_utils import *  # Input generation\n",
    "from Utilities.format_utils import *     # Formatting values for prettier printing\n",
    "from Utilities.visualization_utils import *\n",
    "\n",
    "from thesis_experiments import simplex\n",
    "\n",
    "# Mainly used for visualizing input distributions as a pixel matrix\n",
    "import numpy as np\n",
    "import matplotlib.pyplot as plt\n",
    "from matplotlib.colors import Normalize\n"
   ]
  },
  {
   "cell_type": "code",
   "execution_count": null,
   "metadata": {},
   "outputs": [],
   "source": [
    "# Clearing the directory of images from previous run first\n",
    "# Assumes that the iterations CODE is in that folder\n",
    "clear_directory('..helper/simplex_iterations')\n",
    "\n",
    "A, b, c = generate_random_simplex_input(6, 3, 1, 100)  # 6 inequalities, 3 variables\n",
    "print_example(A, b, c, 'random')\n",
    "_ = simplex(A, b, c)\n",
    "\n",
    "# A_test = [40, 30]\n",
    "# b_test = [[1, 1], [2, 1]]\n",
    "# c_test = [12, 16]\n",
    "# print_example(A_test, b_test, c_test, '[TEST]')\n",
    "# _ = simplex(A_test, b_test, c_test)\n",
    "\n",
    "# Finally, create the GIF; change FPS if needed\n",
    "create_gif(fps=18)  # A 3x3 matrix is about 100 frames and it takes about 5sec to create a gif for that.     \n",
    "\n"
   ]
  }
 ],
 "metadata": {
  "kernelspec": {
   "display_name": "ti2024",
   "language": "python",
   "name": "python3"
  },
  "language_info": {
   "codemirror_mode": {
    "name": "ipython",
    "version": 3
   },
   "file_extension": ".py",
   "mimetype": "text/x-python",
   "name": "python",
   "nbconvert_exporter": "python",
   "pygments_lexer": "ipython3",
   "version": "3.10.13"
  }
 },
 "nbformat": 4,
 "nbformat_minor": 2
}
